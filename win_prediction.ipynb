{
 "cells": [
  {
   "cell_type": "code",
   "execution_count": 27,
   "id": "initial_id",
   "metadata": {
    "collapsed": true,
    "ExecuteTime": {
     "end_time": "2024-07-21T09:40:35.236426Z",
     "start_time": "2024-07-21T09:40:34.859013Z"
    }
   },
   "outputs": [],
   "source": [
    "import pandas as pd\n",
    "df = pd.read_csv('games.csv')\n",
    "champs = pd.read_json('champion_info.json')"
   ]
  },
  {
   "cell_type": "code",
   "outputs": [
    {
     "data": {
      "text/plain": "           gameId   creationTime  gameDuration  seasonId  winner  firstBlood  \\\n0      3326086514  1504279457970          1949         9       1           2   \n1      3229566029  1497848803862          1851         9       1           1   \n2      3327363504  1504360103310          1493         9       1           2   \n3      3326856598  1504348503996          1758         9       1           1   \n4      3330080762  1504554410899          2094         9       1           2   \n...           ...            ...           ...       ...     ...         ...   \n51485  3308904636  1503076540231          1944         9       2           1   \n51486  3215685759  1496957179355          3304         9       2           1   \n51487  3322765040  1504029863961          2156         9       2           2   \n51488  3256675373  1499562036246          1475         9       2           2   \n51489  3317333020  1503612754059          1445         9       1           1   \n\n       firstTower  firstInhibitor  firstBaron  firstDragon  ...  \\\n0               1               1           1            1  ...   \n1               1               1           0            1  ...   \n2               1               1           1            2  ...   \n3               1               1           1            1  ...   \n4               1               1           1            1  ...   \n...           ...             ...         ...          ...  ...   \n51485           2               2           0            2  ...   \n51486           1               2           2            2  ...   \n51487           2               2           0            1  ...   \n51488           2               2           0            2  ...   \n51489           1               1           1            2  ...   \n\n       t2_towerKills  t2_inhibitorKills  t2_baronKills  t2_dragonKills  \\\n0                  5                  0              0               1   \n1                  2                  0              0               0   \n2                  2                  0              0               1   \n3                  0                  0              0               0   \n4                  3                  0              0               1   \n...              ...                ...            ...             ...   \n51485             10                  2              0               4   \n51486             11                  7              4               4   \n51487             10                  2              0               2   \n51488             11                  3              0               1   \n51489              1                  0              0               1   \n\n       t2_riftHeraldKills  t2_ban1  t2_ban2  t2_ban3  t2_ban4  t2_ban5  \n0                       1      114       67       43       16       51  \n1                       0       11       67      238       51      420  \n2                       0      157      238      121       57       28  \n3                       0      164       18      141       40       51  \n4                       0       86       11      201      122       18  \n...                   ...      ...      ...      ...      ...      ...  \n51485                   0       55       -1       90      238      157  \n51486                   1      157       55      119      154      105  \n51487                   0      113      122       53       11      157  \n51488                   0      154       39       51       90      114  \n51489                   0       11      157      141       31       18  \n\n[51490 rows x 61 columns]",
      "text/html": "<div>\n<style scoped>\n    .dataframe tbody tr th:only-of-type {\n        vertical-align: middle;\n    }\n\n    .dataframe tbody tr th {\n        vertical-align: top;\n    }\n\n    .dataframe thead th {\n        text-align: right;\n    }\n</style>\n<table border=\"1\" class=\"dataframe\">\n  <thead>\n    <tr style=\"text-align: right;\">\n      <th></th>\n      <th>gameId</th>\n      <th>creationTime</th>\n      <th>gameDuration</th>\n      <th>seasonId</th>\n      <th>winner</th>\n      <th>firstBlood</th>\n      <th>firstTower</th>\n      <th>firstInhibitor</th>\n      <th>firstBaron</th>\n      <th>firstDragon</th>\n      <th>...</th>\n      <th>t2_towerKills</th>\n      <th>t2_inhibitorKills</th>\n      <th>t2_baronKills</th>\n      <th>t2_dragonKills</th>\n      <th>t2_riftHeraldKills</th>\n      <th>t2_ban1</th>\n      <th>t2_ban2</th>\n      <th>t2_ban3</th>\n      <th>t2_ban4</th>\n      <th>t2_ban5</th>\n    </tr>\n  </thead>\n  <tbody>\n    <tr>\n      <th>0</th>\n      <td>3326086514</td>\n      <td>1504279457970</td>\n      <td>1949</td>\n      <td>9</td>\n      <td>1</td>\n      <td>2</td>\n      <td>1</td>\n      <td>1</td>\n      <td>1</td>\n      <td>1</td>\n      <td>...</td>\n      <td>5</td>\n      <td>0</td>\n      <td>0</td>\n      <td>1</td>\n      <td>1</td>\n      <td>114</td>\n      <td>67</td>\n      <td>43</td>\n      <td>16</td>\n      <td>51</td>\n    </tr>\n    <tr>\n      <th>1</th>\n      <td>3229566029</td>\n      <td>1497848803862</td>\n      <td>1851</td>\n      <td>9</td>\n      <td>1</td>\n      <td>1</td>\n      <td>1</td>\n      <td>1</td>\n      <td>0</td>\n      <td>1</td>\n      <td>...</td>\n      <td>2</td>\n      <td>0</td>\n      <td>0</td>\n      <td>0</td>\n      <td>0</td>\n      <td>11</td>\n      <td>67</td>\n      <td>238</td>\n      <td>51</td>\n      <td>420</td>\n    </tr>\n    <tr>\n      <th>2</th>\n      <td>3327363504</td>\n      <td>1504360103310</td>\n      <td>1493</td>\n      <td>9</td>\n      <td>1</td>\n      <td>2</td>\n      <td>1</td>\n      <td>1</td>\n      <td>1</td>\n      <td>2</td>\n      <td>...</td>\n      <td>2</td>\n      <td>0</td>\n      <td>0</td>\n      <td>1</td>\n      <td>0</td>\n      <td>157</td>\n      <td>238</td>\n      <td>121</td>\n      <td>57</td>\n      <td>28</td>\n    </tr>\n    <tr>\n      <th>3</th>\n      <td>3326856598</td>\n      <td>1504348503996</td>\n      <td>1758</td>\n      <td>9</td>\n      <td>1</td>\n      <td>1</td>\n      <td>1</td>\n      <td>1</td>\n      <td>1</td>\n      <td>1</td>\n      <td>...</td>\n      <td>0</td>\n      <td>0</td>\n      <td>0</td>\n      <td>0</td>\n      <td>0</td>\n      <td>164</td>\n      <td>18</td>\n      <td>141</td>\n      <td>40</td>\n      <td>51</td>\n    </tr>\n    <tr>\n      <th>4</th>\n      <td>3330080762</td>\n      <td>1504554410899</td>\n      <td>2094</td>\n      <td>9</td>\n      <td>1</td>\n      <td>2</td>\n      <td>1</td>\n      <td>1</td>\n      <td>1</td>\n      <td>1</td>\n      <td>...</td>\n      <td>3</td>\n      <td>0</td>\n      <td>0</td>\n      <td>1</td>\n      <td>0</td>\n      <td>86</td>\n      <td>11</td>\n      <td>201</td>\n      <td>122</td>\n      <td>18</td>\n    </tr>\n    <tr>\n      <th>...</th>\n      <td>...</td>\n      <td>...</td>\n      <td>...</td>\n      <td>...</td>\n      <td>...</td>\n      <td>...</td>\n      <td>...</td>\n      <td>...</td>\n      <td>...</td>\n      <td>...</td>\n      <td>...</td>\n      <td>...</td>\n      <td>...</td>\n      <td>...</td>\n      <td>...</td>\n      <td>...</td>\n      <td>...</td>\n      <td>...</td>\n      <td>...</td>\n      <td>...</td>\n      <td>...</td>\n    </tr>\n    <tr>\n      <th>51485</th>\n      <td>3308904636</td>\n      <td>1503076540231</td>\n      <td>1944</td>\n      <td>9</td>\n      <td>2</td>\n      <td>1</td>\n      <td>2</td>\n      <td>2</td>\n      <td>0</td>\n      <td>2</td>\n      <td>...</td>\n      <td>10</td>\n      <td>2</td>\n      <td>0</td>\n      <td>4</td>\n      <td>0</td>\n      <td>55</td>\n      <td>-1</td>\n      <td>90</td>\n      <td>238</td>\n      <td>157</td>\n    </tr>\n    <tr>\n      <th>51486</th>\n      <td>3215685759</td>\n      <td>1496957179355</td>\n      <td>3304</td>\n      <td>9</td>\n      <td>2</td>\n      <td>1</td>\n      <td>1</td>\n      <td>2</td>\n      <td>2</td>\n      <td>2</td>\n      <td>...</td>\n      <td>11</td>\n      <td>7</td>\n      <td>4</td>\n      <td>4</td>\n      <td>1</td>\n      <td>157</td>\n      <td>55</td>\n      <td>119</td>\n      <td>154</td>\n      <td>105</td>\n    </tr>\n    <tr>\n      <th>51487</th>\n      <td>3322765040</td>\n      <td>1504029863961</td>\n      <td>2156</td>\n      <td>9</td>\n      <td>2</td>\n      <td>2</td>\n      <td>2</td>\n      <td>2</td>\n      <td>0</td>\n      <td>1</td>\n      <td>...</td>\n      <td>10</td>\n      <td>2</td>\n      <td>0</td>\n      <td>2</td>\n      <td>0</td>\n      <td>113</td>\n      <td>122</td>\n      <td>53</td>\n      <td>11</td>\n      <td>157</td>\n    </tr>\n    <tr>\n      <th>51488</th>\n      <td>3256675373</td>\n      <td>1499562036246</td>\n      <td>1475</td>\n      <td>9</td>\n      <td>2</td>\n      <td>2</td>\n      <td>2</td>\n      <td>2</td>\n      <td>0</td>\n      <td>2</td>\n      <td>...</td>\n      <td>11</td>\n      <td>3</td>\n      <td>0</td>\n      <td>1</td>\n      <td>0</td>\n      <td>154</td>\n      <td>39</td>\n      <td>51</td>\n      <td>90</td>\n      <td>114</td>\n    </tr>\n    <tr>\n      <th>51489</th>\n      <td>3317333020</td>\n      <td>1503612754059</td>\n      <td>1445</td>\n      <td>9</td>\n      <td>1</td>\n      <td>1</td>\n      <td>1</td>\n      <td>1</td>\n      <td>1</td>\n      <td>2</td>\n      <td>...</td>\n      <td>1</td>\n      <td>0</td>\n      <td>0</td>\n      <td>1</td>\n      <td>0</td>\n      <td>11</td>\n      <td>157</td>\n      <td>141</td>\n      <td>31</td>\n      <td>18</td>\n    </tr>\n  </tbody>\n</table>\n<p>51490 rows × 61 columns</p>\n</div>"
     },
     "execution_count": 28,
     "metadata": {},
     "output_type": "execute_result"
    }
   ],
   "source": [
    "df"
   ],
   "metadata": {
    "collapsed": false,
    "ExecuteTime": {
     "end_time": "2024-07-21T09:40:35.265931Z",
     "start_time": "2024-07-21T09:40:35.238663Z"
    }
   },
   "id": "a18e93409257da82",
   "execution_count": 28
  },
  {
   "cell_type": "code",
   "outputs": [
    {
     "name": "stdout",
     "output_type": "stream",
     "text": [
      "         type version                                               data\n",
      "1    champion  7.17.2  {'title': 'the Dark Child', 'id': 1, 'key': 'A...\n",
      "2    champion  7.17.2  {'title': 'the Berserker', 'id': 2, 'key': 'Ol...\n",
      "3    champion  7.17.2  {'title': 'the Colossus', 'id': 3, 'key': 'Gal...\n",
      "4    champion  7.17.2  {'title': 'the Card Master', 'id': 4, 'key': '...\n",
      "5    champion  7.17.2  {'title': 'the Seneschal of Demacia', 'id': 5,...\n",
      "..        ...     ...                                                ...\n",
      "429  champion  7.17.2  {'title': 'the Spear of Vengeance', 'id': 429,...\n",
      "432  champion  7.17.2  {'title': 'the Wandering Caretaker', 'id': 432...\n",
      "497  champion  7.17.2  {'title': 'The Charmer', 'id': 497, 'key': 'Ra...\n",
      "498  champion  7.17.2  {'title': 'the Rebel', 'id': 498, 'key': 'Xaya...\n",
      "516  champion  7.17.2  {'title': 'The Fire below the Mountain', 'id':...\n",
      "\n",
      "[138 rows x 3 columns]\n"
     ]
    }
   ],
   "source": [
    "print(champs)"
   ],
   "metadata": {
    "collapsed": false,
    "ExecuteTime": {
     "end_time": "2024-07-21T09:40:35.277275Z",
     "start_time": "2024-07-21T09:40:35.268198Z"
    }
   },
   "id": "1633e62d80667f4c",
   "execution_count": 29
  },
  {
   "cell_type": "code",
   "outputs": [
    {
     "data": {
      "text/plain": "       winner  firstBlood  firstTower  firstInhibitor  firstBaron  \\\n0           1           2           1               1           1   \n1           1           1           1               1           0   \n2           1           2           1               1           1   \n3           1           1           1               1           1   \n4           1           2           1               1           1   \n...       ...         ...         ...             ...         ...   \n51485       2           1           2               2           0   \n51486       2           1           1               2           2   \n51487       2           2           2               2           0   \n51488       2           2           2               2           0   \n51489       1           1           1               1           1   \n\n       firstDragon  firstRiftHerald  t1_champ1id  t1_champ1_sum1  \\\n0                1                2            8              12   \n1                1                1          119               7   \n2                2                0           18               4   \n3                1                0           57               4   \n4                1                0           19               4   \n...            ...              ...          ...             ...   \n51485            2                0           19              12   \n51486            2                2           90               4   \n51487            1                0          141              11   \n51488            2                0          121              11   \n51489            2                0           89               3   \n\n       t1_champ1_sum2  ...  t2_towerKills  t2_inhibitorKills  t2_baronKills  \\\n0                   4  ...              5                  0              0   \n1                   4  ...              2                  0              0   \n2                   7  ...              2                  0              0   \n3                  12  ...              0                  0              0   \n4                  12  ...              3                  0              0   \n...               ...  ...            ...                ...            ...   \n51485               4  ...             10                  2              0   \n51486              14  ...             11                  7              4   \n51487               4  ...             10                  2              0   \n51488               4  ...             11                  3              0   \n51489               4  ...              1                  0              0   \n\n       t2_dragonKills  t2_riftHeraldKills  t2_ban1  t2_ban2  t2_ban3  t2_ban4  \\\n0                   1                   1      114       67       43       16   \n1                   0                   0       11       67      238       51   \n2                   1                   0      157      238      121       57   \n3                   0                   0      164       18      141       40   \n4                   1                   0       86       11      201      122   \n...               ...                 ...      ...      ...      ...      ...   \n51485               4                   0       55       -1       90      238   \n51486               4                   1      157       55      119      154   \n51487               2                   0      113      122       53       11   \n51488               1                   0      154       39       51       90   \n51489               1                   0       11      157      141       31   \n\n       t2_ban5  \n0           51  \n1          420  \n2           28  \n3           51  \n4           18  \n...        ...  \n51485      157  \n51486      105  \n51487      157  \n51488      114  \n51489       18  \n\n[51490 rows x 57 columns]",
      "text/html": "<div>\n<style scoped>\n    .dataframe tbody tr th:only-of-type {\n        vertical-align: middle;\n    }\n\n    .dataframe tbody tr th {\n        vertical-align: top;\n    }\n\n    .dataframe thead th {\n        text-align: right;\n    }\n</style>\n<table border=\"1\" class=\"dataframe\">\n  <thead>\n    <tr style=\"text-align: right;\">\n      <th></th>\n      <th>winner</th>\n      <th>firstBlood</th>\n      <th>firstTower</th>\n      <th>firstInhibitor</th>\n      <th>firstBaron</th>\n      <th>firstDragon</th>\n      <th>firstRiftHerald</th>\n      <th>t1_champ1id</th>\n      <th>t1_champ1_sum1</th>\n      <th>t1_champ1_sum2</th>\n      <th>...</th>\n      <th>t2_towerKills</th>\n      <th>t2_inhibitorKills</th>\n      <th>t2_baronKills</th>\n      <th>t2_dragonKills</th>\n      <th>t2_riftHeraldKills</th>\n      <th>t2_ban1</th>\n      <th>t2_ban2</th>\n      <th>t2_ban3</th>\n      <th>t2_ban4</th>\n      <th>t2_ban5</th>\n    </tr>\n  </thead>\n  <tbody>\n    <tr>\n      <th>0</th>\n      <td>1</td>\n      <td>2</td>\n      <td>1</td>\n      <td>1</td>\n      <td>1</td>\n      <td>1</td>\n      <td>2</td>\n      <td>8</td>\n      <td>12</td>\n      <td>4</td>\n      <td>...</td>\n      <td>5</td>\n      <td>0</td>\n      <td>0</td>\n      <td>1</td>\n      <td>1</td>\n      <td>114</td>\n      <td>67</td>\n      <td>43</td>\n      <td>16</td>\n      <td>51</td>\n    </tr>\n    <tr>\n      <th>1</th>\n      <td>1</td>\n      <td>1</td>\n      <td>1</td>\n      <td>1</td>\n      <td>0</td>\n      <td>1</td>\n      <td>1</td>\n      <td>119</td>\n      <td>7</td>\n      <td>4</td>\n      <td>...</td>\n      <td>2</td>\n      <td>0</td>\n      <td>0</td>\n      <td>0</td>\n      <td>0</td>\n      <td>11</td>\n      <td>67</td>\n      <td>238</td>\n      <td>51</td>\n      <td>420</td>\n    </tr>\n    <tr>\n      <th>2</th>\n      <td>1</td>\n      <td>2</td>\n      <td>1</td>\n      <td>1</td>\n      <td>1</td>\n      <td>2</td>\n      <td>0</td>\n      <td>18</td>\n      <td>4</td>\n      <td>7</td>\n      <td>...</td>\n      <td>2</td>\n      <td>0</td>\n      <td>0</td>\n      <td>1</td>\n      <td>0</td>\n      <td>157</td>\n      <td>238</td>\n      <td>121</td>\n      <td>57</td>\n      <td>28</td>\n    </tr>\n    <tr>\n      <th>3</th>\n      <td>1</td>\n      <td>1</td>\n      <td>1</td>\n      <td>1</td>\n      <td>1</td>\n      <td>1</td>\n      <td>0</td>\n      <td>57</td>\n      <td>4</td>\n      <td>12</td>\n      <td>...</td>\n      <td>0</td>\n      <td>0</td>\n      <td>0</td>\n      <td>0</td>\n      <td>0</td>\n      <td>164</td>\n      <td>18</td>\n      <td>141</td>\n      <td>40</td>\n      <td>51</td>\n    </tr>\n    <tr>\n      <th>4</th>\n      <td>1</td>\n      <td>2</td>\n      <td>1</td>\n      <td>1</td>\n      <td>1</td>\n      <td>1</td>\n      <td>0</td>\n      <td>19</td>\n      <td>4</td>\n      <td>12</td>\n      <td>...</td>\n      <td>3</td>\n      <td>0</td>\n      <td>0</td>\n      <td>1</td>\n      <td>0</td>\n      <td>86</td>\n      <td>11</td>\n      <td>201</td>\n      <td>122</td>\n      <td>18</td>\n    </tr>\n    <tr>\n      <th>...</th>\n      <td>...</td>\n      <td>...</td>\n      <td>...</td>\n      <td>...</td>\n      <td>...</td>\n      <td>...</td>\n      <td>...</td>\n      <td>...</td>\n      <td>...</td>\n      <td>...</td>\n      <td>...</td>\n      <td>...</td>\n      <td>...</td>\n      <td>...</td>\n      <td>...</td>\n      <td>...</td>\n      <td>...</td>\n      <td>...</td>\n      <td>...</td>\n      <td>...</td>\n      <td>...</td>\n    </tr>\n    <tr>\n      <th>51485</th>\n      <td>2</td>\n      <td>1</td>\n      <td>2</td>\n      <td>2</td>\n      <td>0</td>\n      <td>2</td>\n      <td>0</td>\n      <td>19</td>\n      <td>12</td>\n      <td>4</td>\n      <td>...</td>\n      <td>10</td>\n      <td>2</td>\n      <td>0</td>\n      <td>4</td>\n      <td>0</td>\n      <td>55</td>\n      <td>-1</td>\n      <td>90</td>\n      <td>238</td>\n      <td>157</td>\n    </tr>\n    <tr>\n      <th>51486</th>\n      <td>2</td>\n      <td>1</td>\n      <td>1</td>\n      <td>2</td>\n      <td>2</td>\n      <td>2</td>\n      <td>2</td>\n      <td>90</td>\n      <td>4</td>\n      <td>14</td>\n      <td>...</td>\n      <td>11</td>\n      <td>7</td>\n      <td>4</td>\n      <td>4</td>\n      <td>1</td>\n      <td>157</td>\n      <td>55</td>\n      <td>119</td>\n      <td>154</td>\n      <td>105</td>\n    </tr>\n    <tr>\n      <th>51487</th>\n      <td>2</td>\n      <td>2</td>\n      <td>2</td>\n      <td>2</td>\n      <td>0</td>\n      <td>1</td>\n      <td>0</td>\n      <td>141</td>\n      <td>11</td>\n      <td>4</td>\n      <td>...</td>\n      <td>10</td>\n      <td>2</td>\n      <td>0</td>\n      <td>2</td>\n      <td>0</td>\n      <td>113</td>\n      <td>122</td>\n      <td>53</td>\n      <td>11</td>\n      <td>157</td>\n    </tr>\n    <tr>\n      <th>51488</th>\n      <td>2</td>\n      <td>2</td>\n      <td>2</td>\n      <td>2</td>\n      <td>0</td>\n      <td>2</td>\n      <td>0</td>\n      <td>121</td>\n      <td>11</td>\n      <td>4</td>\n      <td>...</td>\n      <td>11</td>\n      <td>3</td>\n      <td>0</td>\n      <td>1</td>\n      <td>0</td>\n      <td>154</td>\n      <td>39</td>\n      <td>51</td>\n      <td>90</td>\n      <td>114</td>\n    </tr>\n    <tr>\n      <th>51489</th>\n      <td>1</td>\n      <td>1</td>\n      <td>1</td>\n      <td>1</td>\n      <td>1</td>\n      <td>2</td>\n      <td>0</td>\n      <td>89</td>\n      <td>3</td>\n      <td>4</td>\n      <td>...</td>\n      <td>1</td>\n      <td>0</td>\n      <td>0</td>\n      <td>1</td>\n      <td>0</td>\n      <td>11</td>\n      <td>157</td>\n      <td>141</td>\n      <td>31</td>\n      <td>18</td>\n    </tr>\n  </tbody>\n</table>\n<p>51490 rows × 57 columns</p>\n</div>"
     },
     "execution_count": 30,
     "metadata": {},
     "output_type": "execute_result"
    }
   ],
   "source": [
    "df = df.drop('gameId',axis=1)\n",
    "df = df.drop('creationTime',axis=1)\n",
    "df = df.drop('gameDuration',axis=1)\n",
    "df = df.drop('seasonId',axis=1)\n",
    "df"
   ],
   "metadata": {
    "collapsed": false,
    "ExecuteTime": {
     "end_time": "2024-07-21T09:40:35.331809Z",
     "start_time": "2024-07-21T09:40:35.279550Z"
    }
   },
   "id": "51ff267e38f617a9",
   "execution_count": 30
  },
  {
   "cell_type": "code",
   "outputs": [],
   "source": [
    "df['t1_champ1'] = df['t1_champ1id'].apply(lambda x : champs['data'][x]['name'])\n",
    "df['t1_champ2'] = df['t1_champ2id'].apply(lambda x : champs['data'][x]['name']) \n",
    "df['t1_champ3'] = df['t1_champ3id'].apply(lambda x : champs['data'][x]['name']) \n",
    "df['t1_champ4'] = df['t1_champ4id'].apply(lambda x : champs['data'][x]['name']) \n",
    "df['t1_champ5'] = df['t1_champ5id'].apply(lambda x : champs['data'][x]['name']) \n",
    "\n",
    "\n",
    "df['t2_champ1'] = df['t2_champ1id'].apply(lambda x : champs['data'][x]['name'])\n",
    "df['t2_champ2'] = df['t2_champ2id'].apply(lambda x : champs['data'][x]['name']) \n",
    "df['t2_champ3'] = df['t2_champ3id'].apply(lambda x : champs['data'][x]['name']) \n",
    "df['t2_champ4'] = df['t2_champ4id'].apply(lambda x : champs['data'][x]['name']) \n",
    "df['t2_champ5'] = df['t2_champ5id'].apply(lambda x : champs['data'][x]['name'])\n",
    "\n",
    "\n"
   ],
   "metadata": {
    "collapsed": false,
    "ExecuteTime": {
     "end_time": "2024-07-21T09:40:38.317508Z",
     "start_time": "2024-07-21T09:40:35.334021Z"
    }
   },
   "id": "965b2253ec6b60fd",
   "execution_count": 31
  },
  {
   "cell_type": "code",
   "outputs": [],
   "source": [
    "df = df.drop('t1_champ1id',axis=1)\n",
    "df = df.drop('t1_champ2id',axis=1)\n",
    "df = df.drop('t1_champ3id',axis=1)\n",
    "df = df.drop('t1_champ4id',axis=1)\n",
    "df = df.drop('t1_champ5id',axis=1)\n",
    "\n",
    "df = df.drop('t2_champ1id',axis=1)\n",
    "df = df.drop('t2_champ2id',axis=1)\n",
    "df = df.drop('t2_champ3id',axis=1)\n",
    "df = df.drop('t2_champ4id',axis=1)\n",
    "df = df.drop('t2_champ5id',axis=1)"
   ],
   "metadata": {
    "collapsed": false,
    "ExecuteTime": {
     "end_time": "2024-07-21T09:40:38.474793Z",
     "start_time": "2024-07-21T09:40:38.318577Z"
    }
   },
   "id": "b4c31267a001c242",
   "execution_count": 32
  },
  {
   "cell_type": "code",
   "outputs": [],
   "source": [
    "df = df.drop('t1_champ1_sum1',axis=1)\n",
    "df = df.drop('t1_champ2_sum1',axis=1)\n",
    "df = df.drop('t1_champ3_sum1',axis=1)\n",
    "df = df.drop('t1_champ4_sum1',axis=1)\n",
    "df = df.drop('t1_champ5_sum1',axis=1)\n",
    "\n",
    "df = df.drop('t1_champ1_sum2',axis=1)\n",
    "df = df.drop('t1_champ2_sum2',axis=1)\n",
    "df = df.drop('t1_champ3_sum2',axis=1)\n",
    "df = df.drop('t1_champ4_sum2',axis=1)\n",
    "df = df.drop('t1_champ5_sum2',axis=1)\n",
    "\n",
    "df = df.drop('t2_champ1_sum1',axis=1)\n",
    "df = df.drop('t2_champ2_sum1',axis=1)\n",
    "df = df.drop('t2_champ3_sum1',axis=1)\n",
    "df = df.drop('t2_champ4_sum1',axis=1)\n",
    "df = df.drop('t2_champ5_sum1',axis=1)\n",
    "\n",
    "df = df.drop('t2_champ1_sum2',axis=1)\n",
    "df = df.drop('t2_champ2_sum2',axis=1)\n",
    "df = df.drop('t2_champ3_sum2',axis=1)\n",
    "df = df.drop('t2_champ4_sum2',axis=1)\n",
    "df = df.drop('t2_champ5_sum2',axis=1)"
   ],
   "metadata": {
    "collapsed": false,
    "ExecuteTime": {
     "end_time": "2024-07-21T09:40:38.759389Z",
     "start_time": "2024-07-21T09:40:38.475841Z"
    }
   },
   "id": "e6b341cf3e36866",
   "execution_count": 33
  },
  {
   "cell_type": "code",
   "outputs": [],
   "source": [
    "df = df.drop('t1_ban1',axis=1)\n",
    "df = df.drop('t1_ban2',axis=1)\n",
    "df = df.drop('t1_ban3',axis=1)\n",
    "df = df.drop('t1_ban4',axis=1)\n",
    "df = df.drop('t1_ban5',axis=1)\n",
    "\n",
    "df = df.drop('t2_ban1',axis=1)\n",
    "df = df.drop('t2_ban2',axis=1)\n",
    "df = df.drop('t2_ban3',axis=1)\n",
    "df = df.drop('t2_ban4',axis=1)\n",
    "df = df.drop('t2_ban5',axis=1)"
   ],
   "metadata": {
    "collapsed": false,
    "ExecuteTime": {
     "end_time": "2024-07-21T09:40:38.912913Z",
     "start_time": "2024-07-21T09:40:38.761508Z"
    }
   },
   "id": "3aaf7c90818ead05",
   "execution_count": 34
  },
  {
   "cell_type": "code",
   "outputs": [
    {
     "data": {
      "text/plain": "       winner  firstBlood  firstTower  firstInhibitor  firstBaron  \\\n0           1           2           1               1           1   \n1           1           1           1               1           0   \n2           1           2           1               1           1   \n3           1           1           1               1           1   \n4           1           2           1               1           1   \n...       ...         ...         ...             ...         ...   \n51485       2           1           2               2           0   \n51486       2           1           1               2           2   \n51487       2           2           2               2           0   \n51488       2           2           2               2           0   \n51489       1           1           1               1           1   \n\n       firstDragon  firstRiftHerald  t1_towerKills  t1_inhibitorKills  \\\n0                1                2             11                  1   \n1                1                1             10                  4   \n2                2                0              8                  1   \n3                1                0              9                  2   \n4                1                0              9                  2   \n...            ...              ...            ...                ...   \n51485            2                0              2                  0   \n51486            2                2              5                  4   \n51487            1                0              0                  0   \n51488            2                0              0                  0   \n51489            2                0             11                  3   \n\n       t1_baronKills  ...  t1_champ1  t1_champ2  t1_champ3  t1_champ4  \\\n0                  2  ...   Vladimir       Bard    Kog'Maw  Master Yi   \n1                  0  ...     Draven     Irelia    Nidalee      Kayle   \n2                  1  ...   Tristana       Kayn       Nami     Rumble   \n3                  1  ...     Maokai      Brand     Twitch    Orianna   \n4                  1  ...    Warwick     Twitch      Janna     Draven   \n...              ...  ...        ...        ...        ...        ...   \n51485              0  ...    Warwick    Kalista      Talon       Bard   \n51486              0  ...   Malzahar      Amumu   Cho'Gath     Thresh   \n51487              0  ...       Kayn   Tristana       Bard     Ezreal   \n51488              0  ...    Kha'Zix     Lucian     Illaoi      Braum   \n51489              1  ...      Leona      Annie    Camille    Sejuani   \n\n       t1_champ5     t2_champ1  t2_champ2 t2_champ3 t2_champ4  t2_champ5  \n0         Viktor        Graves      Xayah    Darius       Zed     Thresh  \n1          Shaco      Malphite    Morgana   Hecarim     Yasuo      Riven  \n2       Kassadin    Cassiopeia     Thresh     Jayce       Jax       Ashe  \n3      Dr. Mundo      Malzahar    Warwick    Thresh     Riven       Ashe  \n4         Syndra          Sona  Jarvan IV      Kayn  Kassadin    Caitlyn  \n...          ...           ...        ...       ...       ...        ...  \n51485    Lee Sin        Veigar     Yorick     Vayne     Janna     Gragas  \n51486   Tristana       Shyvana    Kalista     Leona     Nasus     Veigar  \n51487     Rumble         Annie     Draven    Rammus     Karma        Lux  \n51488        Lux  Miss Fortune   Nocturne   Morgana   Karthus  Master Yi  \n51489       Jhin         Brand      Teemo    Twitch   Kha'Zix   Renekton  \n\n[51490 rows x 27 columns]",
      "text/html": "<div>\n<style scoped>\n    .dataframe tbody tr th:only-of-type {\n        vertical-align: middle;\n    }\n\n    .dataframe tbody tr th {\n        vertical-align: top;\n    }\n\n    .dataframe thead th {\n        text-align: right;\n    }\n</style>\n<table border=\"1\" class=\"dataframe\">\n  <thead>\n    <tr style=\"text-align: right;\">\n      <th></th>\n      <th>winner</th>\n      <th>firstBlood</th>\n      <th>firstTower</th>\n      <th>firstInhibitor</th>\n      <th>firstBaron</th>\n      <th>firstDragon</th>\n      <th>firstRiftHerald</th>\n      <th>t1_towerKills</th>\n      <th>t1_inhibitorKills</th>\n      <th>t1_baronKills</th>\n      <th>...</th>\n      <th>t1_champ1</th>\n      <th>t1_champ2</th>\n      <th>t1_champ3</th>\n      <th>t1_champ4</th>\n      <th>t1_champ5</th>\n      <th>t2_champ1</th>\n      <th>t2_champ2</th>\n      <th>t2_champ3</th>\n      <th>t2_champ4</th>\n      <th>t2_champ5</th>\n    </tr>\n  </thead>\n  <tbody>\n    <tr>\n      <th>0</th>\n      <td>1</td>\n      <td>2</td>\n      <td>1</td>\n      <td>1</td>\n      <td>1</td>\n      <td>1</td>\n      <td>2</td>\n      <td>11</td>\n      <td>1</td>\n      <td>2</td>\n      <td>...</td>\n      <td>Vladimir</td>\n      <td>Bard</td>\n      <td>Kog'Maw</td>\n      <td>Master Yi</td>\n      <td>Viktor</td>\n      <td>Graves</td>\n      <td>Xayah</td>\n      <td>Darius</td>\n      <td>Zed</td>\n      <td>Thresh</td>\n    </tr>\n    <tr>\n      <th>1</th>\n      <td>1</td>\n      <td>1</td>\n      <td>1</td>\n      <td>1</td>\n      <td>0</td>\n      <td>1</td>\n      <td>1</td>\n      <td>10</td>\n      <td>4</td>\n      <td>0</td>\n      <td>...</td>\n      <td>Draven</td>\n      <td>Irelia</td>\n      <td>Nidalee</td>\n      <td>Kayle</td>\n      <td>Shaco</td>\n      <td>Malphite</td>\n      <td>Morgana</td>\n      <td>Hecarim</td>\n      <td>Yasuo</td>\n      <td>Riven</td>\n    </tr>\n    <tr>\n      <th>2</th>\n      <td>1</td>\n      <td>2</td>\n      <td>1</td>\n      <td>1</td>\n      <td>1</td>\n      <td>2</td>\n      <td>0</td>\n      <td>8</td>\n      <td>1</td>\n      <td>1</td>\n      <td>...</td>\n      <td>Tristana</td>\n      <td>Kayn</td>\n      <td>Nami</td>\n      <td>Rumble</td>\n      <td>Kassadin</td>\n      <td>Cassiopeia</td>\n      <td>Thresh</td>\n      <td>Jayce</td>\n      <td>Jax</td>\n      <td>Ashe</td>\n    </tr>\n    <tr>\n      <th>3</th>\n      <td>1</td>\n      <td>1</td>\n      <td>1</td>\n      <td>1</td>\n      <td>1</td>\n      <td>1</td>\n      <td>0</td>\n      <td>9</td>\n      <td>2</td>\n      <td>1</td>\n      <td>...</td>\n      <td>Maokai</td>\n      <td>Brand</td>\n      <td>Twitch</td>\n      <td>Orianna</td>\n      <td>Dr. Mundo</td>\n      <td>Malzahar</td>\n      <td>Warwick</td>\n      <td>Thresh</td>\n      <td>Riven</td>\n      <td>Ashe</td>\n    </tr>\n    <tr>\n      <th>4</th>\n      <td>1</td>\n      <td>2</td>\n      <td>1</td>\n      <td>1</td>\n      <td>1</td>\n      <td>1</td>\n      <td>0</td>\n      <td>9</td>\n      <td>2</td>\n      <td>1</td>\n      <td>...</td>\n      <td>Warwick</td>\n      <td>Twitch</td>\n      <td>Janna</td>\n      <td>Draven</td>\n      <td>Syndra</td>\n      <td>Sona</td>\n      <td>Jarvan IV</td>\n      <td>Kayn</td>\n      <td>Kassadin</td>\n      <td>Caitlyn</td>\n    </tr>\n    <tr>\n      <th>...</th>\n      <td>...</td>\n      <td>...</td>\n      <td>...</td>\n      <td>...</td>\n      <td>...</td>\n      <td>...</td>\n      <td>...</td>\n      <td>...</td>\n      <td>...</td>\n      <td>...</td>\n      <td>...</td>\n      <td>...</td>\n      <td>...</td>\n      <td>...</td>\n      <td>...</td>\n      <td>...</td>\n      <td>...</td>\n      <td>...</td>\n      <td>...</td>\n      <td>...</td>\n      <td>...</td>\n    </tr>\n    <tr>\n      <th>51485</th>\n      <td>2</td>\n      <td>1</td>\n      <td>2</td>\n      <td>2</td>\n      <td>0</td>\n      <td>2</td>\n      <td>0</td>\n      <td>2</td>\n      <td>0</td>\n      <td>0</td>\n      <td>...</td>\n      <td>Warwick</td>\n      <td>Kalista</td>\n      <td>Talon</td>\n      <td>Bard</td>\n      <td>Lee Sin</td>\n      <td>Veigar</td>\n      <td>Yorick</td>\n      <td>Vayne</td>\n      <td>Janna</td>\n      <td>Gragas</td>\n    </tr>\n    <tr>\n      <th>51486</th>\n      <td>2</td>\n      <td>1</td>\n      <td>1</td>\n      <td>2</td>\n      <td>2</td>\n      <td>2</td>\n      <td>2</td>\n      <td>5</td>\n      <td>4</td>\n      <td>0</td>\n      <td>...</td>\n      <td>Malzahar</td>\n      <td>Amumu</td>\n      <td>Cho'Gath</td>\n      <td>Thresh</td>\n      <td>Tristana</td>\n      <td>Shyvana</td>\n      <td>Kalista</td>\n      <td>Leona</td>\n      <td>Nasus</td>\n      <td>Veigar</td>\n    </tr>\n    <tr>\n      <th>51487</th>\n      <td>2</td>\n      <td>2</td>\n      <td>2</td>\n      <td>2</td>\n      <td>0</td>\n      <td>1</td>\n      <td>0</td>\n      <td>0</td>\n      <td>0</td>\n      <td>0</td>\n      <td>...</td>\n      <td>Kayn</td>\n      <td>Tristana</td>\n      <td>Bard</td>\n      <td>Ezreal</td>\n      <td>Rumble</td>\n      <td>Annie</td>\n      <td>Draven</td>\n      <td>Rammus</td>\n      <td>Karma</td>\n      <td>Lux</td>\n    </tr>\n    <tr>\n      <th>51488</th>\n      <td>2</td>\n      <td>2</td>\n      <td>2</td>\n      <td>2</td>\n      <td>0</td>\n      <td>2</td>\n      <td>0</td>\n      <td>0</td>\n      <td>0</td>\n      <td>0</td>\n      <td>...</td>\n      <td>Kha'Zix</td>\n      <td>Lucian</td>\n      <td>Illaoi</td>\n      <td>Braum</td>\n      <td>Lux</td>\n      <td>Miss Fortune</td>\n      <td>Nocturne</td>\n      <td>Morgana</td>\n      <td>Karthus</td>\n      <td>Master Yi</td>\n    </tr>\n    <tr>\n      <th>51489</th>\n      <td>1</td>\n      <td>1</td>\n      <td>1</td>\n      <td>1</td>\n      <td>1</td>\n      <td>2</td>\n      <td>0</td>\n      <td>11</td>\n      <td>3</td>\n      <td>1</td>\n      <td>...</td>\n      <td>Leona</td>\n      <td>Annie</td>\n      <td>Camille</td>\n      <td>Sejuani</td>\n      <td>Jhin</td>\n      <td>Brand</td>\n      <td>Teemo</td>\n      <td>Twitch</td>\n      <td>Kha'Zix</td>\n      <td>Renekton</td>\n    </tr>\n  </tbody>\n</table>\n<p>51490 rows × 27 columns</p>\n</div>"
     },
     "execution_count": 35,
     "metadata": {},
     "output_type": "execute_result"
    }
   ],
   "source": [
    "df"
   ],
   "metadata": {
    "collapsed": false,
    "ExecuteTime": {
     "end_time": "2024-07-21T09:40:38.993413Z",
     "start_time": "2024-07-21T09:40:38.916315Z"
    }
   },
   "id": "3fa28173f11db202",
   "execution_count": 35
  },
  {
   "cell_type": "code",
   "outputs": [],
   "source": [
    "df = df.join(pd.get_dummies(df.t1_champ1,prefix='t1_champ1')).drop('t1_champ1',axis=1)\n",
    "df = df.join(pd.get_dummies(df.t1_champ2,prefix='t1_champ2')).drop('t1_champ2',axis=1)\n",
    "df = df.join(pd.get_dummies(df.t1_champ3,prefix='t1_champ3')).drop('t1_champ3',axis=1)\n",
    "df = df.join(pd.get_dummies(df.t1_champ4,prefix='t1_champ4')).drop('t1_champ4',axis=1)\n",
    "df = df.join(pd.get_dummies(df.t1_champ5,prefix='t1_champ5')).drop('t1_champ5',axis=1)\n",
    "\n",
    "df = df.join(pd.get_dummies(df.t2_champ1,prefix='t2_champ1')).drop('t2_champ1',axis=1)\n",
    "df = df.join(pd.get_dummies(df.t2_champ2,prefix='t2_champ2')).drop('t2_champ2',axis=1)\n",
    "df = df.join(pd.get_dummies(df.t2_champ3,prefix='t2_champ3')).drop('t2_champ3',axis=1)\n",
    "df = df.join(pd.get_dummies(df.t2_champ4,prefix='t2_champ4')).drop('t2_champ4',axis=1)\n",
    "df = df.join(pd.get_dummies(df.t2_champ5,prefix='t2_champ5')).drop('t2_champ5',axis=1)"
   ],
   "metadata": {
    "collapsed": false,
    "ExecuteTime": {
     "end_time": "2024-07-21T09:40:40.000125Z",
     "start_time": "2024-07-21T09:40:38.995557Z"
    }
   },
   "id": "807f11fb4ae95c3b",
   "execution_count": 36
  },
  {
   "cell_type": "code",
   "outputs": [
    {
     "data": {
      "text/plain": "       winner  firstBlood  firstTower  firstInhibitor  firstBaron  \\\n0           1           2           1               1           1   \n1           1           1           1               1           0   \n2           1           2           1               1           1   \n3           1           1           1               1           1   \n4           1           2           1               1           1   \n...       ...         ...         ...             ...         ...   \n51485       2           1           2               2           0   \n51486       2           1           1               2           2   \n51487       2           2           2               2           0   \n51488       2           2           2               2           0   \n51489       1           1           1               1           1   \n\n       firstDragon  firstRiftHerald  t1_towerKills  t1_inhibitorKills  \\\n0                1                2             11                  1   \n1                1                1             10                  4   \n2                2                0              8                  1   \n3                1                0              9                  2   \n4                1                0              9                  2   \n...            ...              ...            ...                ...   \n51485            2                0              2                  0   \n51486            2                2              5                  4   \n51487            1                0              0                  0   \n51488            2                0              0                  0   \n51489            2                0             11                  3   \n\n       t1_baronKills  ...  t2_champ5_Xayah  t2_champ5_Xerath  \\\n0                  2  ...            False             False   \n1                  0  ...            False             False   \n2                  1  ...            False             False   \n3                  1  ...            False             False   \n4                  1  ...            False             False   \n...              ...  ...              ...               ...   \n51485              0  ...            False             False   \n51486              0  ...            False             False   \n51487              0  ...            False             False   \n51488              0  ...            False             False   \n51489              1  ...            False             False   \n\n       t2_champ5_Xin Zhao  t2_champ5_Yasuo  t2_champ5_Yorick  t2_champ5_Zac  \\\n0                   False            False             False          False   \n1                   False            False             False          False   \n2                   False            False             False          False   \n3                   False            False             False          False   \n4                   False            False             False          False   \n...                   ...              ...               ...            ...   \n51485               False            False             False          False   \n51486               False            False             False          False   \n51487               False            False             False          False   \n51488               False            False             False          False   \n51489               False            False             False          False   \n\n       t2_champ5_Zed  t2_champ5_Ziggs  t2_champ5_Zilean  t2_champ5_Zyra  \n0              False            False             False           False  \n1              False            False             False           False  \n2              False            False             False           False  \n3              False            False             False           False  \n4              False            False             False           False  \n...              ...              ...               ...             ...  \n51485          False            False             False           False  \n51486          False            False             False           False  \n51487          False            False             False           False  \n51488          False            False             False           False  \n51489          False            False             False           False  \n\n[51490 rows x 1397 columns]",
      "text/html": "<div>\n<style scoped>\n    .dataframe tbody tr th:only-of-type {\n        vertical-align: middle;\n    }\n\n    .dataframe tbody tr th {\n        vertical-align: top;\n    }\n\n    .dataframe thead th {\n        text-align: right;\n    }\n</style>\n<table border=\"1\" class=\"dataframe\">\n  <thead>\n    <tr style=\"text-align: right;\">\n      <th></th>\n      <th>winner</th>\n      <th>firstBlood</th>\n      <th>firstTower</th>\n      <th>firstInhibitor</th>\n      <th>firstBaron</th>\n      <th>firstDragon</th>\n      <th>firstRiftHerald</th>\n      <th>t1_towerKills</th>\n      <th>t1_inhibitorKills</th>\n      <th>t1_baronKills</th>\n      <th>...</th>\n      <th>t2_champ5_Xayah</th>\n      <th>t2_champ5_Xerath</th>\n      <th>t2_champ5_Xin Zhao</th>\n      <th>t2_champ5_Yasuo</th>\n      <th>t2_champ5_Yorick</th>\n      <th>t2_champ5_Zac</th>\n      <th>t2_champ5_Zed</th>\n      <th>t2_champ5_Ziggs</th>\n      <th>t2_champ5_Zilean</th>\n      <th>t2_champ5_Zyra</th>\n    </tr>\n  </thead>\n  <tbody>\n    <tr>\n      <th>0</th>\n      <td>1</td>\n      <td>2</td>\n      <td>1</td>\n      <td>1</td>\n      <td>1</td>\n      <td>1</td>\n      <td>2</td>\n      <td>11</td>\n      <td>1</td>\n      <td>2</td>\n      <td>...</td>\n      <td>False</td>\n      <td>False</td>\n      <td>False</td>\n      <td>False</td>\n      <td>False</td>\n      <td>False</td>\n      <td>False</td>\n      <td>False</td>\n      <td>False</td>\n      <td>False</td>\n    </tr>\n    <tr>\n      <th>1</th>\n      <td>1</td>\n      <td>1</td>\n      <td>1</td>\n      <td>1</td>\n      <td>0</td>\n      <td>1</td>\n      <td>1</td>\n      <td>10</td>\n      <td>4</td>\n      <td>0</td>\n      <td>...</td>\n      <td>False</td>\n      <td>False</td>\n      <td>False</td>\n      <td>False</td>\n      <td>False</td>\n      <td>False</td>\n      <td>False</td>\n      <td>False</td>\n      <td>False</td>\n      <td>False</td>\n    </tr>\n    <tr>\n      <th>2</th>\n      <td>1</td>\n      <td>2</td>\n      <td>1</td>\n      <td>1</td>\n      <td>1</td>\n      <td>2</td>\n      <td>0</td>\n      <td>8</td>\n      <td>1</td>\n      <td>1</td>\n      <td>...</td>\n      <td>False</td>\n      <td>False</td>\n      <td>False</td>\n      <td>False</td>\n      <td>False</td>\n      <td>False</td>\n      <td>False</td>\n      <td>False</td>\n      <td>False</td>\n      <td>False</td>\n    </tr>\n    <tr>\n      <th>3</th>\n      <td>1</td>\n      <td>1</td>\n      <td>1</td>\n      <td>1</td>\n      <td>1</td>\n      <td>1</td>\n      <td>0</td>\n      <td>9</td>\n      <td>2</td>\n      <td>1</td>\n      <td>...</td>\n      <td>False</td>\n      <td>False</td>\n      <td>False</td>\n      <td>False</td>\n      <td>False</td>\n      <td>False</td>\n      <td>False</td>\n      <td>False</td>\n      <td>False</td>\n      <td>False</td>\n    </tr>\n    <tr>\n      <th>4</th>\n      <td>1</td>\n      <td>2</td>\n      <td>1</td>\n      <td>1</td>\n      <td>1</td>\n      <td>1</td>\n      <td>0</td>\n      <td>9</td>\n      <td>2</td>\n      <td>1</td>\n      <td>...</td>\n      <td>False</td>\n      <td>False</td>\n      <td>False</td>\n      <td>False</td>\n      <td>False</td>\n      <td>False</td>\n      <td>False</td>\n      <td>False</td>\n      <td>False</td>\n      <td>False</td>\n    </tr>\n    <tr>\n      <th>...</th>\n      <td>...</td>\n      <td>...</td>\n      <td>...</td>\n      <td>...</td>\n      <td>...</td>\n      <td>...</td>\n      <td>...</td>\n      <td>...</td>\n      <td>...</td>\n      <td>...</td>\n      <td>...</td>\n      <td>...</td>\n      <td>...</td>\n      <td>...</td>\n      <td>...</td>\n      <td>...</td>\n      <td>...</td>\n      <td>...</td>\n      <td>...</td>\n      <td>...</td>\n      <td>...</td>\n    </tr>\n    <tr>\n      <th>51485</th>\n      <td>2</td>\n      <td>1</td>\n      <td>2</td>\n      <td>2</td>\n      <td>0</td>\n      <td>2</td>\n      <td>0</td>\n      <td>2</td>\n      <td>0</td>\n      <td>0</td>\n      <td>...</td>\n      <td>False</td>\n      <td>False</td>\n      <td>False</td>\n      <td>False</td>\n      <td>False</td>\n      <td>False</td>\n      <td>False</td>\n      <td>False</td>\n      <td>False</td>\n      <td>False</td>\n    </tr>\n    <tr>\n      <th>51486</th>\n      <td>2</td>\n      <td>1</td>\n      <td>1</td>\n      <td>2</td>\n      <td>2</td>\n      <td>2</td>\n      <td>2</td>\n      <td>5</td>\n      <td>4</td>\n      <td>0</td>\n      <td>...</td>\n      <td>False</td>\n      <td>False</td>\n      <td>False</td>\n      <td>False</td>\n      <td>False</td>\n      <td>False</td>\n      <td>False</td>\n      <td>False</td>\n      <td>False</td>\n      <td>False</td>\n    </tr>\n    <tr>\n      <th>51487</th>\n      <td>2</td>\n      <td>2</td>\n      <td>2</td>\n      <td>2</td>\n      <td>0</td>\n      <td>1</td>\n      <td>0</td>\n      <td>0</td>\n      <td>0</td>\n      <td>0</td>\n      <td>...</td>\n      <td>False</td>\n      <td>False</td>\n      <td>False</td>\n      <td>False</td>\n      <td>False</td>\n      <td>False</td>\n      <td>False</td>\n      <td>False</td>\n      <td>False</td>\n      <td>False</td>\n    </tr>\n    <tr>\n      <th>51488</th>\n      <td>2</td>\n      <td>2</td>\n      <td>2</td>\n      <td>2</td>\n      <td>0</td>\n      <td>2</td>\n      <td>0</td>\n      <td>0</td>\n      <td>0</td>\n      <td>0</td>\n      <td>...</td>\n      <td>False</td>\n      <td>False</td>\n      <td>False</td>\n      <td>False</td>\n      <td>False</td>\n      <td>False</td>\n      <td>False</td>\n      <td>False</td>\n      <td>False</td>\n      <td>False</td>\n    </tr>\n    <tr>\n      <th>51489</th>\n      <td>1</td>\n      <td>1</td>\n      <td>1</td>\n      <td>1</td>\n      <td>1</td>\n      <td>2</td>\n      <td>0</td>\n      <td>11</td>\n      <td>3</td>\n      <td>1</td>\n      <td>...</td>\n      <td>False</td>\n      <td>False</td>\n      <td>False</td>\n      <td>False</td>\n      <td>False</td>\n      <td>False</td>\n      <td>False</td>\n      <td>False</td>\n      <td>False</td>\n      <td>False</td>\n    </tr>\n  </tbody>\n</table>\n<p>51490 rows × 1397 columns</p>\n</div>"
     },
     "execution_count": 38,
     "metadata": {},
     "output_type": "execute_result"
    }
   ],
   "source": [
    "df"
   ],
   "metadata": {
    "collapsed": false,
    "ExecuteTime": {
     "end_time": "2024-07-21T09:40:46.622547Z",
     "start_time": "2024-07-21T09:40:46.599544Z"
    }
   },
   "id": "df4341a85744d995",
   "execution_count": 38
  },
  {
   "cell_type": "code",
   "outputs": [],
   "source": [
    "X = df.drop('winner',axis=1)\n",
    "y = df['winner']"
   ],
   "metadata": {
    "collapsed": false,
    "ExecuteTime": {
     "end_time": "2024-07-21T09:41:59.709992Z",
     "start_time": "2024-07-21T09:41:59.658457Z"
    }
   },
   "id": "ce85ffa73bd3e2e",
   "execution_count": 39
  },
  {
   "cell_type": "code",
   "outputs": [],
   "source": [
    "from sklearn.model_selection import train_test_split\n",
    "X_train, X_test , y_train , y_test = train_test_split(X,y,test_size=0.2)"
   ],
   "metadata": {
    "collapsed": false,
    "ExecuteTime": {
     "end_time": "2024-07-21T11:15:24.740135Z",
     "start_time": "2024-07-21T11:15:24.635729Z"
    }
   },
   "id": "d48b1768c14cd76a",
   "execution_count": 52
  },
  {
   "cell_type": "code",
   "outputs": [
    {
     "data": {
      "text/plain": "0.9667249304071988"
     },
     "execution_count": 51,
     "metadata": {},
     "output_type": "execute_result"
    }
   ],
   "source": [
    "from sklearn.ensemble import RandomForestClassifier\n",
    "rfc = RandomForestClassifier(n_jobs=-1)\n",
    "rfc.fit(X_train,y_train)\n",
    "rfc.score(X_test,y_test)"
   ],
   "metadata": {
    "collapsed": false,
    "ExecuteTime": {
     "end_time": "2024-07-21T11:14:50.978620Z",
     "start_time": "2024-07-21T11:14:43.492524Z"
    }
   },
   "id": "78af5ad91fa06cba",
   "execution_count": 51
  },
  {
   "cell_type": "code",
   "outputs": [],
   "source": [],
   "metadata": {
    "collapsed": false,
    "ExecuteTime": {
     "end_time": "2024-07-21T09:46:58.757173Z",
     "start_time": "2024-07-21T09:46:58.752111Z"
    }
   },
   "id": "57c40e8d5d5b101f",
   "execution_count": 42
  },
  {
   "cell_type": "code",
   "outputs": [],
   "source": [],
   "metadata": {
    "collapsed": false
   },
   "id": "4fea87930c04addf"
  }
 ],
 "metadata": {
  "kernelspec": {
   "display_name": "Python 3",
   "language": "python",
   "name": "python3"
  },
  "language_info": {
   "codemirror_mode": {
    "name": "ipython",
    "version": 2
   },
   "file_extension": ".py",
   "mimetype": "text/x-python",
   "name": "python",
   "nbconvert_exporter": "python",
   "pygments_lexer": "ipython2",
   "version": "2.7.6"
  }
 },
 "nbformat": 4,
 "nbformat_minor": 5
}
